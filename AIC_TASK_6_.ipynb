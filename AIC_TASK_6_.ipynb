{
  "nbformat": 4,
  "nbformat_minor": 0,
  "metadata": {
    "colab": {
      "provenance": []
    },
    "kernelspec": {
      "name": "python3",
      "display_name": "Python 3"
    },
    "language_info": {
      "name": "python"
    }
  },
  "cells": [
    {
      "cell_type": "code",
      "execution_count": 2,
      "metadata": {
        "id": "p2FSEEboF4U7"
      },
      "outputs": [],
      "source": [
        "# SYEDA ZAINAB FATIMA\n",
        "# WS25-PAK-INP-AI-01"
      ]
    },
    {
      "cell_type": "code",
      "source": [
        "# LOOP\n",
        "# WHILE LOOP"
      ],
      "metadata": {
        "id": "ASEXptPZF6LQ"
      },
      "execution_count": 3,
      "outputs": []
    },
    {
      "cell_type": "code",
      "source": [
        "# EXAMPLE 1\n",
        "num = 0\n",
        "while num < 5:\n",
        "  num += 1\n",
        "  print(num)"
      ],
      "metadata": {
        "colab": {
          "base_uri": "https://localhost:8080/"
        },
        "id": "CDu6Akd2F6TF",
        "outputId": "e43ff6fb-37ff-4b5f-d56c-a8f72453557d"
      },
      "execution_count": 4,
      "outputs": [
        {
          "output_type": "stream",
          "name": "stdout",
          "text": [
            "1\n",
            "2\n",
            "3\n",
            "4\n",
            "5\n"
          ]
        }
      ]
    },
    {
      "cell_type": "code",
      "source": [
        "# EXAMPLE 2\n",
        "i = 5\n",
        "while i > 4 and i < 10:\n",
        "  i += 1\n",
        "  print(i)\n"
      ],
      "metadata": {
        "colab": {
          "base_uri": "https://localhost:8080/"
        },
        "id": "NN0V2M48F6Wd",
        "outputId": "457d2238-6927-4783-860e-47fc1ff9f326"
      },
      "execution_count": 5,
      "outputs": [
        {
          "output_type": "stream",
          "name": "stdout",
          "text": [
            "6\n",
            "7\n",
            "8\n",
            "9\n",
            "10\n"
          ]
        }
      ]
    },
    {
      "cell_type": "code",
      "source": [
        "# EXAMPLE 3\n",
        "z = 22\n",
        "while z < 25:\n",
        "  z += 1\n",
        "  print(z)"
      ],
      "metadata": {
        "id": "U0RnNdTSIjEt",
        "outputId": "b667b7e6-b6a8-400c-924b-1574637ddd65",
        "colab": {
          "base_uri": "https://localhost:8080/"
        }
      },
      "execution_count": 6,
      "outputs": [
        {
          "output_type": "stream",
          "name": "stdout",
          "text": [
            "23\n",
            "24\n",
            "25\n"
          ]
        }
      ]
    },
    {
      "cell_type": "code",
      "source": [
        "# EXAMPLE 4\n",
        "x = 30\n",
        "while x < 40:\n",
        "  x += 1\n",
        "  print(x)"
      ],
      "metadata": {
        "id": "bh287Qr4I7Dl",
        "outputId": "f228b8f7-1a9c-47b5-e64f-d0a7af101897",
        "colab": {
          "base_uri": "https://localhost:8080/"
        }
      },
      "execution_count": 7,
      "outputs": [
        {
          "output_type": "stream",
          "name": "stdout",
          "text": [
            "31\n",
            "32\n",
            "33\n",
            "34\n",
            "35\n",
            "36\n",
            "37\n",
            "38\n",
            "39\n",
            "40\n"
          ]
        }
      ]
    },
    {
      "cell_type": "code",
      "source": [
        "# EXAMPLE 5\n",
        "x = 25\n",
        "while x >24 and x < 30:\n",
        "  x += 1\n",
        "  print(x)"
      ],
      "metadata": {
        "id": "3Y-9otNaLdf7",
        "outputId": "b9574b11-406c-4761-989f-309774113a83",
        "colab": {
          "base_uri": "https://localhost:8080/"
        }
      },
      "execution_count": 8,
      "outputs": [
        {
          "output_type": "stream",
          "name": "stdout",
          "text": [
            "26\n",
            "27\n",
            "28\n",
            "29\n",
            "30\n"
          ]
        }
      ]
    },
    {
      "cell_type": "code",
      "source": [
        "# EXAMPLE 6\n",
        "name = \"AI Cadmey\"\n",
        "i = 0\n",
        "\n",
        "while i < 10:\n",
        "  i +=1\n",
        "  print(name)"
      ],
      "metadata": {
        "id": "2L34eZtFLk4p",
        "outputId": "ceb14d55-c995-489e-ca73-87dc74e1b5be",
        "colab": {
          "base_uri": "https://localhost:8080/"
        }
      },
      "execution_count": 9,
      "outputs": [
        {
          "output_type": "stream",
          "name": "stdout",
          "text": [
            "AI Cadmey\n",
            "AI Cadmey\n",
            "AI Cadmey\n",
            "AI Cadmey\n",
            "AI Cadmey\n",
            "AI Cadmey\n",
            "AI Cadmey\n",
            "AI Cadmey\n",
            "AI Cadmey\n",
            "AI Cadmey\n"
          ]
        }
      ]
    },
    {
      "cell_type": "code",
      "source": [
        "# EXAMPLE 7\n",
        "name = \"Zainab\"\n",
        "i = 0\n",
        "\n",
        "while i < 5:\n",
        "  i +=1\n",
        "  print(name)"
      ],
      "metadata": {
        "id": "1inRiW9gLlIw",
        "outputId": "d77b4d22-bff4-42f0-8f8e-5baba18308b8",
        "colab": {
          "base_uri": "https://localhost:8080/"
        }
      },
      "execution_count": 10,
      "outputs": [
        {
          "output_type": "stream",
          "name": "stdout",
          "text": [
            "Zainab\n",
            "Zainab\n",
            "Zainab\n",
            "Zainab\n",
            "Zainab\n"
          ]
        }
      ]
    },
    {
      "cell_type": "code",
      "source": [
        "# EXAMPLE 8\n",
        "marks = 0\n",
        "while marks < 20:\n",
        "  marks +=1\n",
        "  print(marks)"
      ],
      "metadata": {
        "id": "mCN_LtZCL1s6",
        "outputId": "98ff7f3d-7bbd-42b3-ce6f-662bc5a43001",
        "colab": {
          "base_uri": "https://localhost:8080/"
        }
      },
      "execution_count": 11,
      "outputs": [
        {
          "output_type": "stream",
          "name": "stdout",
          "text": [
            "1\n",
            "2\n",
            "3\n",
            "4\n",
            "5\n",
            "6\n",
            "7\n",
            "8\n",
            "9\n",
            "10\n",
            "11\n",
            "12\n",
            "13\n",
            "14\n",
            "15\n",
            "16\n",
            "17\n",
            "18\n",
            "19\n",
            "20\n"
          ]
        }
      ]
    },
    {
      "cell_type": "code",
      "source": [
        "# EXAMPLE 9\n",
        "marks = 15\n",
        "while marks < 25:\n",
        "  marks +=1\n",
        "  print(marks)"
      ],
      "metadata": {
        "id": "aLFYvAxGMKeh",
        "outputId": "51988cff-9c94-498e-fbb8-3ef5b8c56c1c",
        "colab": {
          "base_uri": "https://localhost:8080/"
        }
      },
      "execution_count": 12,
      "outputs": [
        {
          "output_type": "stream",
          "name": "stdout",
          "text": [
            "16\n",
            "17\n",
            "18\n",
            "19\n",
            "20\n",
            "21\n",
            "22\n",
            "23\n",
            "24\n",
            "25\n"
          ]
        }
      ]
    },
    {
      "cell_type": "code",
      "source": [
        "# EXAMPLE 10\n",
        "marks = 80\n",
        "while marks < 90:\n",
        "  marks +=1\n",
        "  print(marks)\n"
      ],
      "metadata": {
        "id": "Y_bnTO-1NYFE",
        "outputId": "4b8ea845-6ca4-4470-ea2b-86dc8be932a4",
        "colab": {
          "base_uri": "https://localhost:8080/"
        }
      },
      "execution_count": 13,
      "outputs": [
        {
          "output_type": "stream",
          "name": "stdout",
          "text": [
            "81\n",
            "82\n",
            "83\n",
            "84\n",
            "85\n",
            "86\n",
            "87\n",
            "88\n",
            "89\n",
            "90\n"
          ]
        }
      ]
    }
  ]
}